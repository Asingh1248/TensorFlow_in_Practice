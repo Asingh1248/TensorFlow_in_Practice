{
  "nbformat": 4,
  "nbformat_minor": 0,
  "metadata": {
    "colab": {
      "name": "Week1_Hello_World.ipynb",
      "provenance": [],
      "collapsed_sections": [],
      "authorship_tag": "ABX9TyMnkNnDMDjNQSLsPeXGcXFp",
      "include_colab_link": true
    },
    "kernelspec": {
      "name": "python3",
      "display_name": "Python 3"
    }
  },
  "cells": [
    {
      "cell_type": "markdown",
      "metadata": {
        "id": "view-in-github",
        "colab_type": "text"
      },
      "source": [
        "<a href=\"https://colab.research.google.com/github/Asingh1248/TensorFlow_in_Practice/blob/master/Week1_Hello_World.ipynb\" target=\"_parent\"><img src=\"https://colab.research.google.com/assets/colab-badge.svg\" alt=\"Open In Colab\"/></a>"
      ]
    },
    {
      "cell_type": "markdown",
      "metadata": {
        "id": "MVTaBcdVZbnh",
        "colab_type": "text"
      },
      "source": [
        "# The Hello World of the Neural Network"
      ]
    },
    {
      "cell_type": "markdown",
      "metadata": {
        "id": "4nSo3rD5Z4Nf",
        "colab_type": "text"
      },
      "source": [
        "## Imports"
      ]
    },
    {
      "cell_type": "code",
      "metadata": {
        "id": "KLPW3B9dZo81",
        "colab_type": "code",
        "colab": {}
      },
      "source": [
        "import tensorflow as tf\n",
        "import numpy as np\n",
        "from tensorflow import keras"
      ],
      "execution_count": null,
      "outputs": []
    },
    {
      "cell_type": "markdown",
      "metadata": {
        "id": "Fb31BHjsady5",
        "colab_type": "text"
      },
      "source": [
        "## Define and Compile the Neural Network "
      ]
    },
    {
      "cell_type": "code",
      "metadata": {
        "id": "Nyxy6X3mZq5E",
        "colab_type": "code",
        "colab": {}
      },
      "source": [
        "model = tf.keras.Sequential(keras.layers.Dense(units=1,input_shape=[1]))"
      ],
      "execution_count": null,
      "outputs": []
    },
    {
      "cell_type": "code",
      "metadata": {
        "id": "IQFrq09va8jY",
        "colab_type": "code",
        "colab": {}
      },
      "source": [
        "# Explaination :\n",
        "# 1 : Neural Network : Its set of function which learns patterns (Rules : Walking wala )\n",
        "# 2 : keras.layers.Dense : Define a layers imn Hidden layers  \n",
        "   ## since only one layer hance one Dense layers , 1 units , Shape of input is one since we are only providing the one input at time\n",
        "# 3  Succesive layers  are defined in sequence  hence its Sequential  \n"
      ],
      "execution_count": null,
      "outputs": []
    },
    {
      "cell_type": "code",
      "metadata": {
        "id": "pJPVotwQyL6x",
        "colab_type": "code",
        "colab": {}
      },
      "source": [
        "model.compile(optimizer='sgd',loss='mean_squared_error')"
      ],
      "execution_count": null,
      "outputs": []
    },
    {
      "cell_type": "code",
      "metadata": {
        "id": "fRlW30VinU5G",
        "colab_type": "code",
        "colab": {}
      },
      "source": [
        "# Explainations:\n",
        "# When the computer is trying to 'learn' that, it makes a guess...maybe y=10x+10. \n",
        "# 1 : loss _function : will guess against correct answer and measures how bad or good it did\n",
        "# 2:  optimizer  : will try next guess based on loss it wiill try to minimize it\n"
      ],
      "execution_count": null,
      "outputs": []
    },
    {
      "cell_type": "markdown",
      "metadata": {
        "id": "JTF8B3LdzZXO",
        "colab_type": "text"
      },
      "source": [
        "## Providing the Data"
      ]
    },
    {
      "cell_type": "code",
      "metadata": {
        "id": "PTQ_EI-lzVT0",
        "colab_type": "code",
        "colab": {}
      },
      "source": [
        "xs = np.array([-1.0,  0.0, 1.0, 2.0, 3.0, 4.0], dtype=float)\n",
        "ys = np.array([-3.0, -1.0, 1.0, 3.0, 5.0, 7.0], dtype=float)\n",
        "# relation ship is y=2x-1 With every increase in y there is increase in x"
      ],
      "execution_count": null,
      "outputs": []
    },
    {
      "cell_type": "markdown",
      "metadata": {
        "id": "2tRJm5DUzq_d",
        "colab_type": "text"
      },
      "source": [
        "## Traning the Neural network"
      ]
    },
    {
      "cell_type": "code",
      "metadata": {
        "id": "R-4jztj0zuN2",
        "colab_type": "code",
        "colab": {}
      },
      "source": [
        "model.fit(xs,ys,epochs=500)"
      ],
      "execution_count": null,
      "outputs": []
    },
    {
      "cell_type": "code",
      "metadata": {
        "id": "j4A-y8GnyxNo",
        "colab_type": "code",
        "colab": {}
      },
      "source": [
        "# xs ,ys are label data that we provide \n",
        "# epochs : is loop about amking a guess how good and bad it is ,using optimizer\n",
        "# Note : You can use the loss on the right hand side  "
      ],
      "execution_count": null,
      "outputs": []
    },
    {
      "cell_type": "code",
      "metadata": {
        "id": "joMbXJuz0cCE",
        "colab_type": "code",
        "colab": {
          "base_uri": "https://localhost:8080/",
          "height": 34
        },
        "outputId": "810252f5-deb3-4bfe-8ea3-8441225cad60"
      },
      "source": [
        "print(model.predict([10.0]))"
      ],
      "execution_count": null,
      "outputs": [
        {
          "output_type": "stream",
          "text": [
            "[[18.980738]]\n"
          ],
          "name": "stdout"
        }
      ]
    },
    {
      "cell_type": "code",
      "metadata": {
        "id": "cFxpogoO0oaF",
        "colab_type": "code",
        "colab": {}
      },
      "source": [
        "# Explaintion It should be 19 but is very close\n",
        "# Reason 1 : Data set is very small\n",
        "# Reason 2 : Neural network deals with prob ,so its find very high prob with relation ship b/w X and Y"
      ],
      "execution_count": null,
      "outputs": []
    }
  ]
}