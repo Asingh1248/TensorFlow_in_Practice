{
  "nbformat": 4,
  "nbformat_minor": 0,
  "metadata": {
    "colab": {
      "name": "Week3_CNN_Fashion_MNIST.ipynb",
      "provenance": [],
      "collapsed_sections": [],
      "toc_visible": true,
      "authorship_tag": "ABX9TyNZkjWP/xjZUKkQu/W7D9LH",
      "include_colab_link": true
    },
    "kernelspec": {
      "name": "python3",
      "display_name": "Python 3"
    }
  },
  "cells": [
    {
      "cell_type": "markdown",
      "metadata": {
        "id": "view-in-github",
        "colab_type": "text"
      },
      "source": [
        "<a href=\"https://colab.research.google.com/github/Asingh1248/TensorFlow_in_Practice/blob/master/Week3_CNN_Fashion_MNIST.ipynb\" target=\"_parent\"><img src=\"https://colab.research.google.com/assets/colab-badge.svg\" alt=\"Open In Colab\"/></a>"
      ]
    },
    {
      "cell_type": "markdown",
      "metadata": {
        "id": "GicZft5NetiN",
        "colab_type": "text"
      },
      "source": [
        "# Try with the ANN for Fashion MNIST which is in Week2 on"
      ]
    },
    {
      "cell_type": "code",
      "metadata": {
        "id": "ie11ncrUe9HK",
        "colab_type": "code",
        "colab": {}
      },
      "source": [
        "# You will Observe loss: 0.3594 - acc: 0.8744  in train set\n",
        "# Your accuracy is probably about 89% on training and 87% on validation...not bad..\n",
        "# .But how do you make that even better? One way is to use something called Convolutions\n",
        "\n",
        "# Not visit each and every pixel in ANN instead we detect certain edge (features) for e.g for Shoes its Shoelace, Bag : handle :"
      ],
      "execution_count": null,
      "outputs": []
    },
    {
      "cell_type": "markdown",
      "metadata": {
        "id": "OyLdZarMfSYZ",
        "colab_type": "text"
      },
      "source": [
        "# What is CNN ?"
      ]
    },
    {
      "cell_type": "code",
      "metadata": {
        "id": "m6U21QR4fbhJ",
        "colab_type": "code",
        "colab": {}
      },
      "source": [
        "# Convulations : Appyling a filtering matrix (3 x3 )over the each pixel .\n",
        "# Filtering matrix : has certain value to detect the edge(show lace and handle : to detect the )\n",
        "# Pooling : 4 x 4 Matrix we take the largest value and form new compressed image . (So as to remove uneamted part)\n",
        "\n",
        "# Pooling : Maths : Refer the Second Video"
      ],
      "execution_count": null,
      "outputs": []
    },
    {
      "cell_type": "markdown",
      "metadata": {
        "id": "uxxYov1cf1-n",
        "colab_type": "text"
      },
      "source": [
        "# Whats the Logic of CNN"
      ]
    },
    {
      "cell_type": "code",
      "metadata": {
        "id": "xTkKiwe3f68Q",
        "colab_type": "code",
        "colab": {}
      },
      "source": [
        "# Convolution is the process of adding each element of the image to its local neighbors, weighted by the kerne\n",
        "# if we have two three-by-three matrices, the first a kernel, and the second an image piece\n",
        "\n",
        "# you'll see a 3x3 that is defined for edge detection where the middle cell is 8, \n",
        "#  Maths : Refer the Second Video where current value of pixel to some under value "
      ],
      "execution_count": null,
      "outputs": []
    },
    {
      "cell_type": "code",
      "metadata": {
        "id": "V8KAhRLHpK8F",
        "colab_type": "code",
        "colab": {}
      },
      "source": [
        "SHIO"
      ],
      "execution_count": null,
      "outputs": []
    },
    {
      "cell_type": "markdown",
      "metadata": {
        "id": "7rVndq4EhcLY",
        "colab_type": "text"
      },
      "source": [
        "# Improving Computer Vision through CNN"
      ]
    },
    {
      "cell_type": "markdown",
      "metadata": {
        "id": "hzILLKzAhxs9",
        "colab_type": "text"
      },
      "source": [
        "## Import,Providing Data, Reshaping it , Normalising "
      ]
    },
    {
      "cell_type": "code",
      "metadata": {
        "id": "LhbQ-s82hilW",
        "colab_type": "code",
        "colab": {
          "base_uri": "https://localhost:8080/",
          "height": 34
        },
        "outputId": "69b3d7ed-4779-4d46-e8ce-50a55fd11f2d"
      },
      "source": [
        "import tensorflow as tf\n",
        "print(tf.__version__)\n",
        "mnist = tf.keras.datasets.fashion_mnist\n",
        "(training_images, training_labels), (test_images, test_labels) = mnist.load_data()\n",
        "training_images=training_images.reshape(60000, 28, 28, 1)\n",
        "training_images=training_images / 255.0\n",
        "test_images = test_images.reshape(10000, 28, 28, 1)\n",
        "test_images=test_images/255.0"
      ],
      "execution_count": null,
      "outputs": [
        {
          "output_type": "stream",
          "text": [
            "2.2.0\n"
          ],
          "name": "stdout"
        }
      ]
    },
    {
      "cell_type": "code",
      "metadata": {
        "id": "1jUj5Iflg13v",
        "colab_type": "code",
        "colab": {}
      },
      "source": [
        "#  Explaination :\n",
        "# Reshape : 60000 - No of Train Image , 28 x28 =784 pixels , 1 color depth of the image (gray scale)"
      ],
      "execution_count": null,
      "outputs": []
    },
    {
      "cell_type": "markdown",
      "metadata": {
        "id": "FrVMTh2GiT1M",
        "colab_type": "text"
      },
      "source": [
        "## Building the Model with adding extra 4 step of CNN along with 3 steps of ANN"
      ]
    },
    {
      "cell_type": "code",
      "metadata": {
        "id": "q5pzmK1dicGE",
        "colab_type": "code",
        "colab": {}
      },
      "source": [
        "model = tf.keras.models.Sequential([\n",
        "  tf.keras.layers.Conv2D(64,(3,3),activation='relu',input_shape=(28,28,1)),\n",
        "  tf.keras.layers.MaxPool2D(2,2),\n",
        "  tf.keras.layers.Conv2D(64,(3,3),activation='relu',input_shape=(28,28,1)),\n",
        "  tf.keras.layers.MaxPool2D(2,2),\n",
        "  tf.keras.layers.Flatten(),\n",
        "  tf.keras.layers.Dense(128, activation='relu'),\n",
        "  tf.keras.layers.Dense(10, activation='softmax')\n",
        "])"
      ],
      "execution_count": null,
      "outputs": []
    },
    {
      "cell_type": "code",
      "metadata": {
        "id": "xnvuIULVkICJ",
        "colab_type": "code",
        "colab": {}
      },
      "source": [
        "# Whats Exactly is Happening : For Every Image 64 Covulations is tried , \n",
        "# Compressed , pass through ANN hence its might few minutes and hence loss is imporved bit\n",
        "\n",
        "# Note there is 2 Convulations layers "
      ],
      "execution_count": null,
      "outputs": []
    },
    {
      "cell_type": "code",
      "metadata": {
        "id": "85sAf4A4iRkh",
        "colab_type": "code",
        "colab": {}
      },
      "source": [
        "# Explaination\n",
        " \n",
        " # relu : Remove all the neagtive values\n",
        " # Conv2D(64) -- No of Filters -- Each filters gets improved by learning itself again and again(like ANN),\n",
        " # Conv2D(3,3) - Matrix of 3x3 size\n",
        " # MaxPool2D(2,2) -- Refer the Diagram in Second video 4x4  == 2x2 (Compressing the index by taking only highest)"
      ],
      "execution_count": null,
      "outputs": []
    },
    {
      "cell_type": "markdown",
      "metadata": {
        "id": "ttNs9Oxalj0G",
        "colab_type": "text"
      },
      "source": [
        "## Compiling the CNN"
      ]
    },
    {
      "cell_type": "code",
      "metadata": {
        "id": "o5PgCJwNlpiA",
        "colab_type": "code",
        "colab": {}
      },
      "source": [
        "model.compile(optimizer='adam', loss='sparse_categorical_crossentropy', metrics=['accuracy'])"
      ],
      "execution_count": null,
      "outputs": []
    },
    {
      "cell_type": "markdown",
      "metadata": {
        "id": "8KtFyyjolyRY",
        "colab_type": "text"
      },
      "source": [
        "## Model Summary"
      ]
    },
    {
      "cell_type": "code",
      "metadata": {
        "id": "bq7GC6zll1vW",
        "colab_type": "code",
        "colab": {
          "base_uri": "https://localhost:8080/",
          "height": 391
        },
        "outputId": "84f2a7b3-e2b3-4781-f701-a07036af7e19"
      },
      "source": [
        "model.summary()"
      ],
      "execution_count": null,
      "outputs": [
        {
          "output_type": "stream",
          "text": [
            "Model: \"sequential\"\n",
            "_________________________________________________________________\n",
            "Layer (type)                 Output Shape              Param #   \n",
            "=================================================================\n",
            "conv2d (Conv2D)              (None, 26, 26, 64)        640       \n",
            "_________________________________________________________________\n",
            "max_pooling2d (MaxPooling2D) (None, 13, 13, 64)        0         \n",
            "_________________________________________________________________\n",
            "conv2d_1 (Conv2D)            (None, 11, 11, 64)        36928     \n",
            "_________________________________________________________________\n",
            "max_pooling2d_1 (MaxPooling2 (None, 5, 5, 64)          0         \n",
            "_________________________________________________________________\n",
            "flatten (Flatten)            (None, 1600)              0         \n",
            "_________________________________________________________________\n",
            "dense (Dense)                (None, 128)               204928    \n",
            "_________________________________________________________________\n",
            "dense_1 (Dense)              (None, 10)                1290      \n",
            "=================================================================\n",
            "Total params: 243,786\n",
            "Trainable params: 243,786\n",
            "Non-trainable params: 0\n",
            "_________________________________________________________________\n"
          ],
          "name": "stdout"
        }
      ]
    },
    {
      "cell_type": "code",
      "metadata": {
        "id": "GxaJoeC1mCMs",
        "colab_type": "code",
        "colab": {}
      },
      "source": [
        "# Explaination of Output :\n",
        "# Why Conv2D -- > (None, 26, 26, 64) instead of 28 x28 ? As on the corner pixel on top at botton we cannot have filters applied \n",
        "                                  #hence 2 pixel smaller on x and 2 pixel smaller on y reduce its becomes from 28 to 26\n",
        "# Why MaxPooling2D -- > (None, 13, 13, 64)  Whole image is comprrsed in half # as 4 x 4 pixel is compreesed to 2x2 pixel\n",
        "                  # Refer the Diagram in google docs\n",
        "\n",
        "                  # Why (None,11,11,64) -- Margin Issue \n",
        "  ## V.Imp Now before going into ANN our image is 5 x5 instead of 28 x28 this is most imp EFFECT OF CNN\n",
        "\n",
        "# Flatten --> (None, 1600) Instead of 784(28x28) \n",
        "  # Now we have 64 image with each image 5 x5 pixel and if we flatten that out : 5x5x64=1600 pixels\n"
      ],
      "execution_count": null,
      "outputs": []
    },
    {
      "cell_type": "markdown",
      "metadata": {
        "id": "CmJLNPBLpGDQ",
        "colab_type": "text"
      },
      "source": [
        "## Fit and evaluate the model"
      ]
    },
    {
      "cell_type": "code",
      "metadata": {
        "id": "Y7swY3glpRuH",
        "colab_type": "code",
        "colab": {
          "base_uri": "https://localhost:8080/",
          "height": 221
        },
        "outputId": "b68b8757-64d9-4bb5-eb59-a5b7fedb98f1"
      },
      "source": [
        "model.fit(training_images, training_labels, epochs=5)\n",
        "test_loss, test_acc = model.evaluate(test_images, test_labels)\n",
        "print(test_acc)"
      ],
      "execution_count": null,
      "outputs": [
        {
          "output_type": "stream",
          "text": [
            "Epoch 1/5\n",
            "1875/1875 [==============================] - 82s 44ms/step - loss: 0.4386 - accuracy: 0.8411\n",
            "Epoch 2/5\n",
            "1875/1875 [==============================] - 82s 44ms/step - loss: 0.2905 - accuracy: 0.8939\n",
            "Epoch 3/5\n",
            "1875/1875 [==============================] - 81s 43ms/step - loss: 0.2443 - accuracy: 0.9098\n",
            "Epoch 4/5\n",
            "1875/1875 [==============================] - 81s 43ms/step - loss: 0.2128 - accuracy: 0.9209\n",
            "Epoch 5/5\n",
            "1875/1875 [==============================] - 81s 43ms/step - loss: 0.1873 - accuracy: 0.9301\n",
            "313/313 [==============================] - 4s 13ms/step - loss: 0.2549 - accuracy: 0.9061\n",
            "0.9060999751091003\n"
          ],
          "name": "stdout"
        }
      ]
    },
    {
      "cell_type": "code",
      "metadata": {
        "id": "9rZdP4__qv62",
        "colab_type": "code",
        "colab": {}
      },
      "source": [
        "# Instead of loss: 0.3594 - acc: 0.8744  in test set in ANN navive method and it took around 25 seconds\n",
        "\n",
        "# we are getting : loss: 0.2718 - accuracy: 0.9037 Takes few minutes "
      ],
      "execution_count": null,
      "outputs": []
    },
    {
      "cell_type": "markdown",
      "metadata": {
        "id": "nYaPHgoj6Cgk",
        "colab_type": "text"
      },
      "source": [
        "# Visualizing the Convolutions and Pooling\n",
        "Journey of the Image through Convulations"
      ]
    },
    {
      "cell_type": "code",
      "metadata": {
        "id": "N60SUm2F6P9_",
        "colab_type": "code",
        "colab": {
          "base_uri": "https://localhost:8080/",
          "height": 68
        },
        "outputId": "0407cb19-b25d-43e3-94d3-70439d1fae73"
      },
      "source": [
        "print(test_labels[:100])"
      ],
      "execution_count": null,
      "outputs": [
        {
          "output_type": "stream",
          "text": [
            "[9 2 1 1 6 1 4 6 5 7 4 5 7 3 4 1 2 4 8 0 2 5 7 9 1 4 6 0 9 3 8 8 3 3 8 0 7\n",
            " 5 7 9 6 1 3 7 6 7 2 1 2 2 4 4 5 8 2 2 8 4 8 0 7 7 8 5 1 1 2 3 9 8 7 0 2 6\n",
            " 2 3 1 2 8 4 1 8 5 9 5 0 3 2 0 6 5 3 6 7 1 8 0 1 4 2]\n"
          ],
          "name": "stdout"
        }
      ]
    },
    {
      "cell_type": "code",
      "metadata": {
        "id": "VTADzZUs6jvb",
        "colab_type": "code",
        "colab": {
          "base_uri": "https://localhost:8080/",
          "height": 268
        },
        "outputId": "8b168fea-c512-4ebe-b896-60893a761e3d"
      },
      "source": [
        "import matplotlib.pyplot as plt\n",
        "f, axarr = plt.subplots(3,4)\n",
        "FIRST_IMAGE=0 # shoe - 9\n",
        "SECOND_IMAGE=23 # shoe  - 9\n",
        "THIRD_IMAGE=28 # shoe  - 9\n",
        "CONVOLUTION_NUMBER = 1 # try with 2,4\n",
        "from tensorflow.keras import models\n",
        "layer_outputs = [layer.output for layer in model.layers]\n",
        "activation_model = tf.keras.models.Model(inputs = model.input, outputs = layer_outputs)\n",
        "for x in range(0,4):\n",
        "  f1 = activation_model.predict(test_images[FIRST_IMAGE].reshape(1, 28, 28, 1))[x]\n",
        "  axarr[0,x].imshow(f1[0, : , :, CONVOLUTION_NUMBER], cmap='inferno')\n",
        "  axarr[0,x].grid(False)\n",
        "  f2 = activation_model.predict(test_images[SECOND_IMAGE].reshape(1, 28, 28, 1))[x]\n",
        "  axarr[1,x].imshow(f2[0, : , :, CONVOLUTION_NUMBER], cmap='inferno')\n",
        "  axarr[1,x].grid(False)\n",
        "  f3 = activation_model.predict(test_images[THIRD_IMAGE].reshape(1, 28, 28, 1))[x]\n",
        "  axarr[2,x].imshow(f3[0, : , :, CONVOLUTION_NUMBER], cmap='inferno')\n",
        "  axarr[2,x].grid(False)"
      ],
      "execution_count": null,
      "outputs": [
        {
          "output_type": "display_data",
          "data": {
            "image/png": "[encoded data removed]",
            "text/plain": [
              "<Figure size 432x288 with 12 Axes>"
            ]
          },
          "metadata": {
            "tags": [],
            "needs_background": "light"
          }
        }
      ]
    },
    {
      "cell_type": "code",
      "metadata": {
        "id": "wgK6-pjS9neo",
        "colab_type": "code",
        "colab": {}
      },
      "source": [
        "# Explainations : Keras API gives us Each Convulations, each Pooling and each Dense as layers\n",
        "# So with the layers API I can take a look at each layer output \n",
        "# Step 1 (layer_outputs): Create a list of Each layers Output.\n",
        "# Step 2 (activation_model): Treat each item in the layer as an individual activation model if I want to sse the O/P of just that layer.\n",
        "# Step 3 : Looping through the layers\n",
        "# Step 4() : Displaying the Journey of the Image through first Convulation and then first pooiling and second Convulation N\n",
        "\n",
        "# Note Size of the image is changing\n",
        "# It aslo detects the laces area as a common features between the shoes  \n",
        "\n",
        "# Handlag : bootm it will show but futher convuation lyer will disapper it \n",
        "\n",
        "# See Commonlaity in different image try 2,3,5 Image\n",
        "\n",
        "# Convualtion detects the vertical image and detexts its has trouser\n",
        "\n"
      ],
      "execution_count": null,
      "outputs": []
    },
    {
      "cell_type": "markdown",
      "metadata": {
        "id": "4zbzuK5A70El",
        "colab_type": "text"
      },
      "source": [
        "# Exercise\n",
        "\n",
        "Try editing the convolutions. Change the 32s to either 16 or 64. What impact \n",
        "will this have on accuracy and/or training time.\n",
        "\n",
        "Remove the final Convolution. What impact will this have on accuracy or training time?\n",
        "\n",
        "How about adding more Convolutions? What impact do you think this will have? Experiment with it.\n",
        "\n",
        "Remove all Convolutions but the first. What impact do you think this will have? Experiment with it.\n",
        "\n",
        "In the previous lesson you implemented a callback to check on the loss function and to cancel training once it hit a certain amount. See if you can implement that here"
      ]
    },
    {
      "cell_type": "code",
      "metadata": {
        "id": "dBlWIKlV72zz",
        "colab_type": "code",
        "colab": {}
      },
      "source": [
        ""
      ],
      "execution_count": null,
      "outputs": []
    }
  ]
}